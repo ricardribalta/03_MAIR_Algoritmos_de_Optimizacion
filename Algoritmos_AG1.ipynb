{
  "nbformat": 4,
  "nbformat_minor": 0,
  "metadata": {
    "colab": {
      "name": "Algoritmos_AG1",
      "provenance": [],
      "toc_visible": true,
      "mount_file_id": "103rQzq-wcyDI41y9PqNnntxB5Oy-1EjP",
      "authorship_tag": "ABX9TyMVhb+0q2VMTdM2CGFNxyjw",
      "include_colab_link": true
    },
    "kernelspec": {
      "name": "python3",
      "display_name": "Python 3"
    }
  },
  "cells": [
    {
      "cell_type": "markdown",
      "metadata": {
        "id": "view-in-github",
        "colab_type": "text"
      },
      "source": [
        "<a href=\"https://colab.research.google.com/github/ricardribalta/03_MAIR_Algoritmos_de_Optimizacion/blob/main/Algoritmos_AG1.ipynb\" target=\"_parent\"><img src=\"https://colab.research.google.com/assets/colab-badge.svg\" alt=\"Open In Colab\"/></a>"
      ]
    },
    {
      "cell_type": "markdown",
      "metadata": {
        "id": "FT0VxzwAtEmJ"
      },
      "source": [
        "# Algoritmos - Actividad Guiada 1\r\n",
        "\r\n",
        "Nombre Ricard Ribalta Bargalló\r\n",
        "\r\n",
        "URL: https://colab.research.google.com/drive/103rQzq-wcyDI41y9PqNnntxB5Oy-1EjP?usp=sharing\r\n",
        "\r\n",
        "Github: https://github.com/ricardribalta/03_MAIR_Algoritmos_de_Optimizacion.git"
      ]
    },
    {
      "cell_type": "markdown",
      "metadata": {
        "id": "EQGrXX3TvTXZ"
      },
      "source": [
        "## Torres de Hanoi con Divide y vencerás"
      ]
    },
    {
      "cell_type": "code",
      "metadata": {
        "colab": {
          "base_uri": "https://localhost:8080/"
        },
        "id": "dEWCqXMyohxu",
        "outputId": "00eba212-7a41-49a0-8384-c7fc6b16c4d2"
      },
      "source": [
        "def Torres_Hanoi(N, desde, hasta):\r\n",
        "  if N == 1:\r\n",
        "    print(\"Lleva la ficha desde \", desde, \" hasta \", hasta)\r\n",
        "  else:\r\n",
        "    Torres_Hanoi(N-1, desde, list({1,2,3} - {desde, hasta})[0])\r\n",
        "    print(\"Lleva la ficha desde \", desde, \" hasta \", hasta)\r\n",
        "    Torres_Hanoi(N-1, list({1,2,3} - {desde, hasta})[0], hasta)\r\n",
        "\r\n",
        "Torres_Hanoi(3, 1, 3)"
      ],
      "execution_count": 2,
      "outputs": [
        {
          "output_type": "stream",
          "text": [
            "Lleva la ficha desde  1  hasta  3\n",
            "Lleva la ficha desde  1  hasta  2\n",
            "Lleva la ficha desde  3  hasta  2\n",
            "Lleva la ficha desde  1  hasta  3\n",
            "Lleva la ficha desde  2  hasta  1\n",
            "Lleva la ficha desde  2  hasta  3\n",
            "Lleva la ficha desde  1  hasta  3\n"
          ],
          "name": "stdout"
        }
      ]
    },
    {
      "cell_type": "markdown",
      "metadata": {
        "id": "LlttGCBJ5mOi"
      },
      "source": [
        "## Devolución de cambio por tecnica varoz"
      ]
    },
    {
      "cell_type": "code",
      "metadata": {
        "colab": {
          "base_uri": "https://localhost:8080/"
        },
        "id": "E27Six585xMK",
        "outputId": "0ac33d8f-791e-4aae-8232-1340265bd59c"
      },
      "source": [
        "def cambio_monedas(N, SM):\r\n",
        "  SOLUCION = [0] * len(SM)  #SOLUCIONS = [0,0,0,0,0,...]\r\n",
        "  ValorAcomulado = 0\r\n",
        "  for i, valor in enumerate(SM):\r\n",
        "    monedas = (N - ValorAcomulado)//valor\r\n",
        "    SOLUCION[i] = monedas\r\n",
        "    ValorAcomulado = ValorAcomulado + monedas * valor\r\n",
        "\r\n",
        "    if ValorAcomulado == N:\r\n",
        "      return SOLUCION\r\n",
        "\r\n",
        "cambio_monedas(37, [25, 10, 5, 1])"
      ],
      "execution_count": 3,
      "outputs": [
        {
          "output_type": "execute_result",
          "data": {
            "text/plain": [
              "[1, 1, 0, 2]"
            ]
          },
          "metadata": {
            "tags": []
          },
          "execution_count": 3
        }
      ]
    },
    {
      "cell_type": "markdown",
      "metadata": {
        "id": "eKRuB3zo_DI5"
      },
      "source": [
        "## N-Reinas por técnica de vuelta atrás"
      ]
    },
    {
      "cell_type": "code",
      "metadata": {
        "colab": {
          "base_uri": "https://localhost:8080/"
        },
        "id": "xf5lNSfI_ML-",
        "outputId": "01f2b194-b320-47df-d1a8-a833df037336"
      },
      "source": [
        "def escribe(S):\r\n",
        "\r\n",
        "  n = len(S)\r\n",
        "\r\n",
        "  for x in range(n):\r\n",
        "\r\n",
        "    print(\"\")\r\n",
        "\r\n",
        "    for i in range(n):\r\n",
        "\r\n",
        "      if S[i] == x+1:\r\n",
        "\r\n",
        "        print(\" X \" , end=\"\")\r\n",
        "\r\n",
        "      else:\r\n",
        "\r\n",
        "        print(\" - \", end=\"\")\r\n",
        "\r\n",
        "        \r\n",
        "def es_prometedora(SOLUCION,etapa):\r\n",
        "\r\n",
        "  #print(SOLUCION)\r\n",
        "\r\n",
        "  #Si la solución tiene dos valores iguales no es valida => Dos reinas en la misma fila\r\n",
        "\r\n",
        "  for i in range(etapa+1):\r\n",
        "\r\n",
        "    #print(\"El valor \" + str(SOLUCION[i]) + \" está \" +  str(SOLUCION.count(SOLUCION[i])) + \" veces\")\r\n",
        "\r\n",
        "    if SOLUCION.count(SOLUCION[i]) > 1:       \r\n",
        "\r\n",
        "      return False\r\n",
        "#Verifica las diagonales\r\n",
        "\r\n",
        "    for j in range(i+1, etapa + 1):\r\n",
        "\r\n",
        "      #print(\"Comprobando diagonal de \" + str(i) + \" y \" + str(j))\r\n",
        "\r\n",
        "      if abs(i-j) == abs(SOLUCION[i]-SOLUCION[j]) : return False\r\n",
        "\r\n",
        "  return True\r\n",
        "\r\n",
        "\r\n",
        "def reinas(N, solucion=[], etapa = 0):\r\n",
        "  #solucion = np.zeros(N)\r\n",
        "  if len(solucion)==0:\r\n",
        "    solucion=[0 for i in range(N)]\r\n",
        "  for i in range(1, N + 1):\r\n",
        "    solucion[etapa] = i\r\n",
        "\r\n",
        "    if es_prometedora(solucion, etapa):\r\n",
        "      if etapa == N - 1:\r\n",
        "        print(solucion)\r\n",
        "      else:\r\n",
        "        reinas(N, solucion, etapa + 1)\r\n",
        "    else:\r\n",
        "      None\r\n",
        "    solucion[etapa] = 0\r\n",
        "\r\n",
        "\r\n",
        "reinas(4)"
      ],
      "execution_count": 4,
      "outputs": [
        {
          "output_type": "stream",
          "text": [
            "[2, 4, 1, 3]\n",
            "[3, 1, 4, 2]\n"
          ],
          "name": "stdout"
        }
      ]
    },
    {
      "cell_type": "markdown",
      "metadata": {
        "id": "P37SXZEDG8Mf"
      },
      "source": [
        "# Practica individual\r\n",
        "\r\n",
        "## Encontrar los dos puntos más cercanos\r\n",
        "\r\n",
        "Dado un conjunto de puntos se trata de encontrar los dos puntos más cercanos\r\n",
        "-  Guía para aprendizaje:\r\n",
        " - Suponer en 1D, o sea, una lista de números: [3403, 4537, 9089, 9746, 7259, ….\r\n",
        " - Primer intento: Fuerza bruta\r\n",
        " -  Calcular la complejidad. ¿Se puede mejorar?\r\n",
        " - Segundo intento. Aplicar Divide y Vencerás\r\n",
        " - Calcular la complejidad. ¿Se puede mejorar?\r\n",
        " - Extender el algoritmo a 2D: [(1122, 6175), (135, 4076), (7296, 2741)…\r\n",
        " - Extender el algoritmo a 3D."
      ]
    },
    {
      "cell_type": "code",
      "metadata": {
        "id": "EZSF71b7BcDi",
        "colab": {
          "base_uri": "https://localhost:8080/"
        },
        "outputId": "18db28b6-32cd-4744-af19-3ccfd1080645"
      },
      "source": [
        "# Generar lista de puntos de una dimensión\r\n",
        "import random\r\n",
        "List1D = [random.randrange(1,1000) for x in range(10)]\r\n",
        "List2D = [(random.randrange(1,1000), random.randrange(1,1000))  for x in range(10)]\r\n",
        "List1D, List2D"
      ],
      "execution_count": 5,
      "outputs": [
        {
          "output_type": "execute_result",
          "data": {
            "text/plain": [
              "([743, 286, 232, 640, 955, 797, 426, 138, 565, 811],\n",
              " [(569, 832),\n",
              "  (906, 901),\n",
              "  (8, 574),\n",
              "  (976, 432),\n",
              "  (125, 533),\n",
              "  (931, 171),\n",
              "  (923, 981),\n",
              "  (120, 263),\n",
              "  (908, 283),\n",
              "  (853, 413)])"
            ]
          },
          "metadata": {
            "tags": []
          },
          "execution_count": 5
        }
      ]
    },
    {
      "cell_type": "code",
      "metadata": {
        "id": "PGkitFJnUqBu"
      },
      "source": [
        "# calcular la ditancia entre dos puntos de 1D\r\n",
        "import math\r\n",
        "def Dist1D(p0, p1):\r\n",
        "    return math.sqrt(math.fabs(p0 - p1)**2 + math.fabs(p0 - p1)**2)\r\n",
        "\r\n",
        "# calcular la ditancia entre dos puntos de nD\r\n",
        "def distancia(p0, p1):\r\n",
        "  i = 0\r\n",
        "  suma = 0\r\n",
        "  for i in range(len(p0)-1):\r\n",
        "    suma += math.fabs(p0[i] - p1[i])**2\r\n",
        "  return math.sqrt(suma)\r\n",
        " "
      ],
      "execution_count": 6,
      "outputs": []
    },
    {
      "cell_type": "code",
      "metadata": {
        "colab": {
          "base_uri": "https://localhost:8080/"
        },
        "id": "FtHA7sLGVrJ-",
        "outputId": "147e03c2-1769-4d31-e1df-938f26417b67"
      },
      "source": [
        "# comparar distáncias por fuerza bruta\r\n",
        "def MinDistFuerzaBruta(listDistance):\r\n",
        "  mindsit = 0\r\n",
        "  i = 0\r\n",
        "  for i in range(len(listDistance)):\r\n",
        "    j = i + 1\r\n",
        "    while j < len(listDistance):\r\n",
        "      dist1d = Dist1D(listDistance[i],listDistance[j])\r\n",
        "      # print(str(i) + \", \"  + str(j))\r\n",
        "      if i == 0 and j == 1:\r\n",
        "        mindsit = dist1d\r\n",
        "      elif mindsit > dist1d:\r\n",
        "        mindsit = dist1d\r\n",
        "      j += 1;\r\n",
        "    i += 1\r\n",
        "  return mindsit\r\n",
        "\r\n",
        "print(\"Distáncia mínima: \" + str(MinDistFuerzaBruta(List1D)))"
      ],
      "execution_count": 7,
      "outputs": [
        {
          "output_type": "stream",
          "text": [
            "Distáncia mínima: 19.79898987322333\n"
          ],
          "name": "stdout"
        }
      ]
    },
    {
      "cell_type": "markdown",
      "metadata": {
        "id": "WqATvx_que2V"
      },
      "source": [
        "*Resolver el problema de la distáncia mínima por una dimencions, los càlculos realizados son (n·(n-1))/2\r\n",
        "\r\n"
      ]
    },
    {
      "cell_type": "code",
      "metadata": {
        "colab": {
          "base_uri": "https://localhost:8080/"
        },
        "id": "loL-UKAYLYrR",
        "outputId": "b50e103e-3bab-46f6-e517-5a232ab88484"
      },
      "source": [
        "#Comparar la distancia por divide y venceras 1D\r\n",
        "def DivideVenceras1D(L):\r\n",
        "  puntosOrdenados = sorted(L)\r\n",
        "\r\n",
        "  puntoMedio = len(puntosOrdenados)//2\r\n",
        "  p = []\r\n",
        "  q = []\r\n",
        "  i = 0\r\n",
        "  j = 0\r\n",
        "  for i in range(puntoMedio):\r\n",
        "    p.append(puntosOrdenados[i])\r\n",
        "  for j in range(puntoMedio,len(puntosOrdenados)):\r\n",
        "    q.append(puntosOrdenados[j])\r\n",
        "  d1 = MinDistFuerzaBruta(p)\r\n",
        "  d2 = MinDistFuerzaBruta(q)\r\n",
        "  d3 = MinDistFuerzaBruta([p[-1],q[0]])\r\n",
        "  dMin = min(d1,d2,d3)\r\n",
        "  return dMin\r\n",
        "print(\"Distáncia mínima: \" + str(DivideVenceras1D(List1D)))"
      ],
      "execution_count": 17,
      "outputs": [
        {
          "output_type": "stream",
          "text": [
            "Distáncia mínima: 19.79898987322333\n"
          ],
          "name": "stdout"
        }
      ]
    },
    {
      "cell_type": "markdown",
      "metadata": {
        "id": "VLNnnq_KvLdJ"
      },
      "source": [
        "*Con divide y venceras T(n) = 2T(n/2) + O(n) = O(n log n)* "
      ]
    },
    {
      "cell_type": "code",
      "metadata": {
        "colab": {
          "base_uri": "https://localhost:8080/"
        },
        "id": "BOgTLqt-fRT0",
        "outputId": "a344485f-3557-4562-df51-618edf64e13b"
      },
      "source": [
        "# calcular la ditancia entre dos puntos de ND\r\n",
        "def MinDistFuerzaBrutaNdim(listDistance):\r\n",
        "  mindsit = 0\r\n",
        "  i = 0\r\n",
        "  for i in range(len(listDistance)):\r\n",
        "    j = i + 1\r\n",
        "    while j < len(listDistance):\r\n",
        "      dist = distancia(listDistance[i],listDistance[j])\r\n",
        "      #print(str(i) + \", \"  + str(j))\r\n",
        "      if i == 0 and j == 1:\r\n",
        "        mindsit = dist\r\n",
        "      elif mindsit > dist:\r\n",
        "        mindsit = dist\r\n",
        "      j += 1;\r\n",
        "    i += 1\r\n",
        "  return mindsit\r\n",
        "\r\n",
        "print(\"Distáncia mínima: \" + str(MinDistFuerzaBrutaNdim(List2D)))"
      ],
      "execution_count": 13,
      "outputs": [
        {
          "output_type": "stream",
          "text": [
            "Distáncia mínima: 2.0\n"
          ],
          "name": "stdout"
        }
      ]
    },
    {
      "cell_type": "code",
      "metadata": {
        "colab": {
          "base_uri": "https://localhost:8080/"
        },
        "id": "FrSkpnyxjVg0",
        "outputId": "eeda5803-806a-46bb-c4eb-c28a7d1d30d1"
      },
      "source": [
        "def takefirst(elem):\r\n",
        "    return elem[0]\r\n",
        "# calcular la ditancia entre dos puntos de nD por Divide y Venceras\r\n",
        "def DivideVencerasND(L):\r\n",
        "  puntosOrdenados = sorted(L,key=takefirst)\r\n",
        "\r\n",
        "  puntoMedio = len(puntosOrdenados)//2\r\n",
        "  p = []\r\n",
        "  q = []\r\n",
        "  i = 0\r\n",
        "  j = 0\r\n",
        "  for i in range(puntoMedio):\r\n",
        "    p.append(puntosOrdenados[i])\r\n",
        "  for j in range(puntoMedio,len(puntosOrdenados)):\r\n",
        "    q.append(puntosOrdenados[j])\r\n",
        "  d1 = MinDistFuerzaBrutaNdim(p)\r\n",
        "  d2 = MinDistFuerzaBrutaNdim(q)\r\n",
        "  mindist = min(d1, d2)\r\n",
        "  puntoMedio = Dist1D(p[-1][0],q[0][0])/2\r\n",
        "  medio = puntoMedio + mindist\r\n",
        "  i = 0\r\n",
        "  j = 0\r\n",
        "  for i in range(len(p)-1, 0):\r\n",
        "    if p[i][0] <= medio:\r\n",
        "      #p1.append(p[i])\r\n",
        "      for j in range(0, len(q)):\r\n",
        "        if q[j][0] <= medio:\r\n",
        "          dist = distancia(p[i],q[j])\r\n",
        "          if mindist > dist:\r\n",
        "            mindist = dist\r\n",
        "          #q1.append(q[j])\r\n",
        "        else:\r\n",
        "          break\r\n",
        "    else:\r\n",
        "      break\r\n",
        "  return mindist\r\n",
        "\r\n",
        "print(\"Distáncia mínima: \" + str(DivideVencerasND(List2D)))"
      ],
      "execution_count": 15,
      "outputs": [
        {
          "output_type": "stream",
          "text": [
            "Distáncia mínima: 2.0\n"
          ],
          "name": "stdout"
        }
      ]
    },
    {
      "cell_type": "markdown",
      "metadata": {
        "id": "LLdnCaaFt66z"
      },
      "source": [
        "*Se podria mejorar en el caso de tener muchos valores dividiendo aún mas el algorimto*"
      ]
    },
    {
      "cell_type": "code",
      "metadata": {
        "id": "7ak9F4SWDm_u"
      },
      "source": [
        ""
      ],
      "execution_count": null,
      "outputs": []
    }
  ]
}