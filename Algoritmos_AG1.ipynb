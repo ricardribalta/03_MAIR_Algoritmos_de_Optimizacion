{
  "nbformat": 4,
  "nbformat_minor": 0,
  "metadata": {
    "colab": {
      "name": "Algoritmos_AG1",
      "provenance": [],
      "toc_visible": true,
      "mount_file_id": "103rQzq-wcyDI41y9PqNnntxB5Oy-1EjP",
      "authorship_tag": "ABX9TyOsfCP3QDvRhH/AX1JMVKex",
      "include_colab_link": true
    },
    "kernelspec": {
      "name": "python3",
      "display_name": "Python 3"
    }
  },
  "cells": [
    {
      "cell_type": "markdown",
      "metadata": {
        "id": "view-in-github",
        "colab_type": "text"
      },
      "source": [
        "<a href=\"https://colab.research.google.com/github/ricardribalta/03_MAIR_Algoritmos_de_Optimizacion/blob/main/Algoritmos_AG1.ipynb\" target=\"_parent\"><img src=\"https://colab.research.google.com/assets/colab-badge.svg\" alt=\"Open In Colab\"/></a>"
      ]
    },
    {
      "cell_type": "markdown",
      "metadata": {
        "id": "FT0VxzwAtEmJ"
      },
      "source": [
        "# Algoritmos - Actividad Guiada 1\r\n",
        "\r\n",
        "Nombre Ricard Ribalta Bargalló\r\n",
        "\r\n",
        "URL: https://colab.research.google.com/drive/103rQzq-wcyDI41y9PqNnntxB5Oy-1EjP?usp=sharing\r\n",
        "\r\n",
        "Github: https://github.com/ricardribalta/03_MAIR_Algoritmos_de_Optimizacion.git"
      ]
    },
    {
      "cell_type": "markdown",
      "metadata": {
        "id": "EQGrXX3TvTXZ"
      },
      "source": [
        "## Torres de Hanoi con Divide y vencerás"
      ]
    },
    {
      "cell_type": "code",
      "metadata": {
        "colab": {
          "base_uri": "https://localhost:8080/"
        },
        "id": "dEWCqXMyohxu",
        "outputId": "1adaa86b-9f2c-4319-b593-f515c9f2ca12"
      },
      "source": [
        "def Torres_Hanoi(N, desde, hasta):\r\n",
        "  if N == 1:\r\n",
        "    print(\"Lleva la ficha desde \", desde, \" hasta \", hasta)\r\n",
        "  else:\r\n",
        "    Torres_Hanoi(N-1, desde, list({1,2,3} - {desde, hasta})[0])\r\n",
        "    print(\"Lleva la ficha desde \", desde, \" hasta \", hasta)\r\n",
        "    Torres_Hanoi(N-1, list({1,2,3} - {desde, hasta})[0], hasta)\r\n",
        "\r\n",
        "Torres_Hanoi(3, 1, 3)"
      ],
      "execution_count": null,
      "outputs": [
        {
          "output_type": "stream",
          "text": [
            "Lleva la ficha desde  1  hasta  3\n",
            "Lleva la ficha desde  1  hasta  2\n",
            "Lleva la ficha desde  3  hasta  2\n",
            "Lleva la ficha desde  1  hasta  3\n",
            "Lleva la ficha desde  2  hasta  1\n",
            "Lleva la ficha desde  2  hasta  3\n",
            "Lleva la ficha desde  1  hasta  3\n"
          ],
          "name": "stdout"
        }
      ]
    },
    {
      "cell_type": "markdown",
      "metadata": {
        "id": "LlttGCBJ5mOi"
      },
      "source": [
        "## Devolución de cambio por tecnica varoz"
      ]
    },
    {
      "cell_type": "code",
      "metadata": {
        "colab": {
          "base_uri": "https://localhost:8080/"
        },
        "id": "E27Six585xMK",
        "outputId": "0a5cee8e-130a-411a-8f4a-2363af05f574"
      },
      "source": [
        "def cambio_monedas(N, SM):\r\n",
        "  SOLUCION = [0] * len(SM)  #SOLUCIONS = [0,0,0,0,0,...]\r\n",
        "  ValorAcomulado = 0\r\n",
        "  for i, valor in enumerate(SM):\r\n",
        "    monedas = (N - ValorAcomulado)//valor\r\n",
        "    SOLUCION[i] = monedas\r\n",
        "    ValorAcomulado = ValorAcomulado + monedas * valor\r\n",
        "\r\n",
        "    if ValorAcomulado == N:\r\n",
        "      return SOLUCION\r\n",
        "\r\n",
        "cambio_monedas(37, [25, 10, 5, 1])"
      ],
      "execution_count": null,
      "outputs": [
        {
          "output_type": "execute_result",
          "data": {
            "text/plain": [
              "[1, 1, 0, 2]"
            ]
          },
          "metadata": {
            "tags": []
          },
          "execution_count": 11
        }
      ]
    },
    {
      "cell_type": "markdown",
      "metadata": {
        "id": "eKRuB3zo_DI5"
      },
      "source": [
        "## N-Reinas por técnica de vuelta atrás"
      ]
    },
    {
      "cell_type": "code",
      "metadata": {
        "colab": {
          "base_uri": "https://localhost:8080/"
        },
        "id": "xf5lNSfI_ML-",
        "outputId": "6384ac99-b992-4a61-e884-56b1545eb903"
      },
      "source": [
        "def escribe(S):\r\n",
        "\r\n",
        "  n = len(S)\r\n",
        "\r\n",
        "  for x in range(n):\r\n",
        "\r\n",
        "    print(\"\")\r\n",
        "\r\n",
        "    for i in range(n):\r\n",
        "\r\n",
        "      if S[i] == x+1:\r\n",
        "\r\n",
        "        print(\" X \" , end=\"\")\r\n",
        "\r\n",
        "      else:\r\n",
        "\r\n",
        "        print(\" - \", end=\"\")\r\n",
        "\r\n",
        "        \r\n",
        "def es_prometedora(SOLUCION,etapa):\r\n",
        "\r\n",
        "  #print(SOLUCION)\r\n",
        "\r\n",
        "  #Si la solución tiene dos valores iguales no es valida => Dos reinas en la misma fila\r\n",
        "\r\n",
        "  for i in range(etapa+1):\r\n",
        "\r\n",
        "    #print(\"El valor \" + str(SOLUCION[i]) + \" está \" +  str(SOLUCION.count(SOLUCION[i])) + \" veces\")\r\n",
        "\r\n",
        "    if SOLUCION.count(SOLUCION[i]) > 1:       \r\n",
        "\r\n",
        "      return False\r\n",
        "#Verifica las diagonales\r\n",
        "\r\n",
        "    for j in range(i+1, etapa + 1):\r\n",
        "\r\n",
        "      #print(\"Comprobando diagonal de \" + str(i) + \" y \" + str(j))\r\n",
        "\r\n",
        "      if abs(i-j) == abs(SOLUCION[i]-SOLUCION[j]) : return False\r\n",
        "\r\n",
        "  return True\r\n",
        "\r\n",
        "\r\n",
        "def reinas(N, solucion=[], etapa = 0):\r\n",
        "  #solucion = np.zeros(N)\r\n",
        "  if len(solucion)==0:\r\n",
        "    solucion=[0 for i in range(N)]\r\n",
        "  for i in range(1, N + 1):\r\n",
        "    solucion[etapa] = i\r\n",
        "\r\n",
        "    if es_prometedora(solucion, etapa):\r\n",
        "      if etapa == N - 1:\r\n",
        "        print(solucion)\r\n",
        "      else:\r\n",
        "        reinas(N, solucion, etapa + 1)\r\n",
        "    else:\r\n",
        "      None\r\n",
        "    solucion[etapa] = 0\r\n",
        "\r\n",
        "\r\n",
        "reinas(4)"
      ],
      "execution_count": null,
      "outputs": [
        {
          "output_type": "stream",
          "text": [
            "[2, 4, 1, 3]\n",
            "[3, 1, 4, 2]\n"
          ],
          "name": "stdout"
        }
      ]
    },
    {
      "cell_type": "markdown",
      "metadata": {
        "id": "P37SXZEDG8Mf"
      },
      "source": [
        "# Practica individual\r\n",
        "\r\n",
        "## Encontrar los dos puntos más cercanos\r\n",
        "\r\n",
        "Dado un conjunto de puntos se trata de encontrar los dos puntos más cercanos\r\n",
        "-  Guía para aprendizaje:\r\n",
        " - Suponer en 1D, o sea, una lista de números: [3403, 4537, 9089, 9746, 7259, ….\r\n",
        " - Primer intento: Fuerza bruta\r\n",
        " -  Calcular la complejidad. ¿Se puede mejorar?\r\n",
        " - Segundo intento. Aplicar Divide y Vencerás\r\n",
        " - Calcular la complejidad. ¿Se puede mejorar?\r\n",
        " - Extender el algoritmo a 2D: [(1122, 6175), (135, 4076), (7296, 2741)…\r\n",
        " - Extender el algoritmo a 3D."
      ]
    },
    {
      "cell_type": "code",
      "metadata": {
        "id": "EZSF71b7BcDi",
        "colab": {
          "base_uri": "https://localhost:8080/"
        },
        "outputId": "30471ea9-6308-4c97-e1d5-ff6e781c2055"
      },
      "source": [
        "# Generar lista de puntos de una dimensión\r\n",
        "import random\r\n",
        "List1D = [random.randrange(1,1000) for x in range(10)]\r\n",
        "List2D = [(random.randrange(1,1000), random.randrange(1,1000))  for x in range(10)]\r\n",
        "List1D, List2D"
      ],
      "execution_count": 2,
      "outputs": [
        {
          "output_type": "execute_result",
          "data": {
            "text/plain": [
              "([911, 745, 185, 889, 752, 274, 714, 304, 284, 946],\n",
              " [(207, 438),\n",
              "  (491, 6),\n",
              "  (10, 292),\n",
              "  (617, 624),\n",
              "  (993, 34),\n",
              "  (529, 90),\n",
              "  (630, 650),\n",
              "  (244, 677),\n",
              "  (771, 894),\n",
              "  (684, 850)])"
            ]
          },
          "metadata": {
            "tags": []
          },
          "execution_count": 2
        }
      ]
    },
    {
      "cell_type": "code",
      "metadata": {
        "id": "PGkitFJnUqBu"
      },
      "source": [
        "# calcular la ditancia entre dos puntos de 1D\r\n",
        "import math\r\n",
        "def Dist1D(p0, p1):\r\n",
        "    return math.sqrt(math.fabs(p0 - p1)**2 + math.fabs(p0 - p1)**2)\r\n",
        "\r\n",
        "# calcular la ditancia entre dos puntos de nD\r\n",
        "def distancia(p0, p1):\r\n",
        "  i = 0\r\n",
        "  suma = 0\r\n",
        "  for i in range(len(p0)-1):\r\n",
        "    suma += math.fabs(p0[i] - p1[i])**2\r\n",
        "  return math.sqrt(suma)\r\n",
        " "
      ],
      "execution_count": 18,
      "outputs": []
    },
    {
      "cell_type": "code",
      "metadata": {
        "colab": {
          "base_uri": "https://localhost:8080/"
        },
        "id": "FtHA7sLGVrJ-",
        "outputId": "983a3d12-9e38-46db-f49e-6de30ef82df3"
      },
      "source": [
        "# comparar distáncias por fuerza bruta\r\n",
        "def MinDistFuerzaBruta(listDistance):\r\n",
        "  mindsit = 0\r\n",
        "  i = 0\r\n",
        "  for i in range(len(listDistance)):\r\n",
        "    j = i + 1\r\n",
        "    while j < len(listDistance):\r\n",
        "      dist1d = Dist1D(listDistance[i],listDistance[j])\r\n",
        "      print(str(i) + \", \"  + str(j))\r\n",
        "      if i == 0 and j == 1:\r\n",
        "        mindsit = dist1d\r\n",
        "      elif mindsit > dist1d:\r\n",
        "        mindsit = dist1d\r\n",
        "      j += 1;\r\n",
        "    i += 1\r\n",
        "  return mindsit\r\n",
        "\r\n",
        "print(\"Distáncia mínima: \" + str(MinDistFuerzaBruta(List1D)))"
      ],
      "execution_count": 11,
      "outputs": [
        {
          "output_type": "stream",
          "text": [
            "0, 1\n",
            "0, 2\n",
            "0, 3\n",
            "0, 4\n",
            "0, 5\n",
            "0, 6\n",
            "0, 7\n",
            "0, 8\n",
            "0, 9\n",
            "1, 2\n",
            "1, 3\n",
            "1, 4\n",
            "1, 5\n",
            "1, 6\n",
            "1, 7\n",
            "1, 8\n",
            "1, 9\n",
            "2, 3\n",
            "2, 4\n",
            "2, 5\n",
            "2, 6\n",
            "2, 7\n",
            "2, 8\n",
            "2, 9\n",
            "3, 4\n",
            "3, 5\n",
            "3, 6\n",
            "3, 7\n",
            "3, 8\n",
            "3, 9\n",
            "4, 5\n",
            "4, 6\n",
            "4, 7\n",
            "4, 8\n",
            "4, 9\n",
            "5, 6\n",
            "5, 7\n",
            "5, 8\n",
            "5, 9\n",
            "6, 7\n",
            "6, 8\n",
            "6, 9\n",
            "7, 8\n",
            "7, 9\n",
            "8, 9\n",
            "Distáncia mínima: 9.899494936611665\n"
          ],
          "name": "stdout"
        }
      ]
    },
    {
      "cell_type": "markdown",
      "metadata": {
        "id": "WqATvx_que2V"
      },
      "source": [
        "*Resolver el problema de la distáncia mínima por una dimencions, los càlculos realizados son (n·(n-1))/2\r\n",
        "\r\n"
      ]
    },
    {
      "cell_type": "code",
      "metadata": {
        "colab": {
          "base_uri": "https://localhost:8080/"
        },
        "id": "loL-UKAYLYrR",
        "outputId": "3d223153-307b-4251-f9da-97c2ec97ce44"
      },
      "source": [
        "#Comparar la distancia por divide y venceras 1D\r\n",
        "def DivideVenceras1D(L):\r\n",
        "  puntosOrdenados = sorted(L)\r\n",
        "\r\n",
        "  puntoMedio = len(puntosOrdenados)//2\r\n",
        "  p = []\r\n",
        "  q = []\r\n",
        "  i = 0\r\n",
        "  j = 0\r\n",
        "  for i in range(puntoMedio):\r\n",
        "    p.append(puntosOrdenados[i])\r\n",
        "  for j in range(puntoMedio,len(puntosOrdenados)):\r\n",
        "    q.append(puntosOrdenados[j])\r\n",
        "  d1 = MinDistFuerzaBruta(p)\r\n",
        "  d2 = MinDistFuerzaBruta(q)\r\n",
        "  d3 = MinDistFuerzaBruta([p[-1],q[0]])\r\n",
        "  dMin = min(d1,d2,d3)\r\n",
        "  return dMin\r\n",
        "print(DivideVenceras1D(List1D))"
      ],
      "execution_count": 23,
      "outputs": [
        {
          "output_type": "stream",
          "text": [
            "0, 1\n",
            "0, 2\n",
            "0, 3\n",
            "0, 4\n",
            "1, 2\n",
            "1, 3\n",
            "1, 4\n",
            "2, 3\n",
            "2, 4\n",
            "3, 4\n",
            "0, 1\n",
            "0, 2\n",
            "0, 3\n",
            "0, 4\n",
            "1, 2\n",
            "1, 3\n",
            "1, 4\n",
            "2, 3\n",
            "2, 4\n",
            "3, 4\n",
            "0, 1\n",
            "9.899494936611665\n"
          ],
          "name": "stdout"
        }
      ]
    },
    {
      "cell_type": "markdown",
      "metadata": {
        "id": "VLNnnq_KvLdJ"
      },
      "source": [
        "*Con divide y venceras T(n) = 2T(n/2) + O(n) = O(n log n)* "
      ]
    },
    {
      "cell_type": "code",
      "metadata": {
        "colab": {
          "base_uri": "https://localhost:8080/"
        },
        "id": "BOgTLqt-fRT0",
        "outputId": "e9119013-69e6-4761-dff0-142e8cdfb4a6"
      },
      "source": [
        "# calcular la ditancia entre dos puntos de ND\r\n",
        "def MinDistFuerzaBrutaNdim(listDistance):\r\n",
        "  mindsit = 0\r\n",
        "  i = 0\r\n",
        "  for i in range(len(listDistance)):\r\n",
        "    j = i + 1\r\n",
        "    while j < len(listDistance):\r\n",
        "      dist = distancia(listDistance[i],listDistance[j])\r\n",
        "      print(str(i) + \", \"  + str(j))\r\n",
        "      if i == 0 and j == 1:\r\n",
        "        mindsit = dist\r\n",
        "      elif mindsit > dist:\r\n",
        "        mindsit = dist\r\n",
        "      j += 1;\r\n",
        "    i += 1\r\n",
        "  return mindsit\r\n",
        "\r\n",
        "print(\"Distáncia mínima: \" + str(MinDistFuerzaBrutaNdim(List2D)))"
      ],
      "execution_count": 21,
      "outputs": [
        {
          "output_type": "stream",
          "text": [
            "0, 1\n",
            "0, 2\n",
            "0, 3\n",
            "0, 4\n",
            "0, 5\n",
            "0, 6\n",
            "0, 7\n",
            "0, 8\n",
            "0, 9\n",
            "1, 2\n",
            "1, 3\n",
            "1, 4\n",
            "1, 5\n",
            "1, 6\n",
            "1, 7\n",
            "1, 8\n",
            "1, 9\n",
            "2, 3\n",
            "2, 4\n",
            "2, 5\n",
            "2, 6\n",
            "2, 7\n",
            "2, 8\n",
            "2, 9\n",
            "3, 4\n",
            "3, 5\n",
            "3, 6\n",
            "3, 7\n",
            "3, 8\n",
            "3, 9\n",
            "4, 5\n",
            "4, 6\n",
            "4, 7\n",
            "4, 8\n",
            "4, 9\n",
            "5, 6\n",
            "5, 7\n",
            "5, 8\n",
            "5, 9\n",
            "6, 7\n",
            "6, 8\n",
            "6, 9\n",
            "7, 8\n",
            "7, 9\n",
            "8, 9\n",
            "Distáncia mínima: 13.0\n"
          ],
          "name": "stdout"
        }
      ]
    },
    {
      "cell_type": "code",
      "metadata": {
        "colab": {
          "base_uri": "https://localhost:8080/"
        },
        "id": "FrSkpnyxjVg0",
        "outputId": "b9e12484-789c-436c-8c2f-2d826d2c62e6"
      },
      "source": [
        "def takefirst(elem):\r\n",
        "    return elem[0]\r\n",
        "# calcular la ditancia entre dos puntos de nD por Divide y Venceras\r\n",
        "def DivideVencerasND(L):\r\n",
        "  puntosOrdenados = sorted(L,key=takefirst)\r\n",
        "\r\n",
        "  puntoMedio = len(puntosOrdenados)//2\r\n",
        "  p = []\r\n",
        "  q = []\r\n",
        "  i = 0\r\n",
        "  j = 0\r\n",
        "  for i in range(puntoMedio):\r\n",
        "    p.append(puntosOrdenados[i])\r\n",
        "  for j in range(puntoMedio,len(puntosOrdenados)):\r\n",
        "    q.append(puntosOrdenados[j])\r\n",
        "  d1 = MinDistFuerzaBrutaNdim(p)\r\n",
        "  d2 = MinDistFuerzaBrutaNdim(q)\r\n",
        "  mindist = min(d1, d2)\r\n",
        "  puntoMedio = Dist1D(p[-1][0],q[0][0])/2\r\n",
        "  medio = puntoMedio + mindist\r\n",
        "  i = 0\r\n",
        "  j = 0\r\n",
        "  for i in range(len(p)-1, 0):\r\n",
        "    if p[i][0] <= medio:\r\n",
        "      #p1.append(p[i])\r\n",
        "      for j in range(0, len(q)):\r\n",
        "        if q[j][0] <= medio:\r\n",
        "          dist = distancia(p[i],q[j])\r\n",
        "          if mindist > dist:\r\n",
        "            mindist = dist\r\n",
        "          #q1.append(q[j])\r\n",
        "        else:\r\n",
        "          break\r\n",
        "    else:\r\n",
        "      break\r\n",
        "\r\n",
        "  return dMin\r\n",
        "\r\n",
        "DivideVencerasND(List2D)  "
      ],
      "execution_count": 35,
      "outputs": [
        {
          "output_type": "stream",
          "text": [
            "0, 1\n",
            "0, 2\n",
            "0, 3\n",
            "0, 4\n",
            "1, 2\n",
            "1, 3\n",
            "1, 4\n",
            "2, 3\n",
            "2, 4\n",
            "3, 4\n",
            "0, 1\n",
            "0, 2\n",
            "0, 3\n",
            "0, 4\n",
            "1, 2\n",
            "1, 3\n",
            "1, 4\n",
            "2, 3\n",
            "2, 4\n",
            "3, 4\n"
          ],
          "name": "stdout"
        },
        {
          "output_type": "execute_result",
          "data": {
            "text/plain": [
              "9.899494936611665"
            ]
          },
          "metadata": {
            "tags": []
          },
          "execution_count": 35
        }
      ]
    },
    {
      "cell_type": "markdown",
      "metadata": {
        "id": "LLdnCaaFt66z"
      },
      "source": [
        "*Se podria mejorar en el caso de tener muchos valores dividiendo aún mas el algorimto*"
      ]
    }
  ]
}