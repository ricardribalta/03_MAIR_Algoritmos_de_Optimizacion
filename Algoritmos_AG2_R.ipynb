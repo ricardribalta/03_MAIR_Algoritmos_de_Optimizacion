{
  "nbformat": 4,
  "nbformat_minor": 0,
  "metadata": {
    "colab": {
      "name": "Algoritmos_AG2_R.ipynb",
      "provenance": [],
      "collapsed_sections": [],
      "authorship_tag": "ABX9TyOgUOQoTvRiHf29rBR+oxGG",
      "include_colab_link": true
    },
    "kernelspec": {
      "display_name": "Python 3",
      "name": "python3"
    }
  },
  "cells": [
    {
      "cell_type": "markdown",
      "metadata": {
        "id": "view-in-github",
        "colab_type": "text"
      },
      "source": [
        "<a href=\"https://colab.research.google.com/github/ricardribalta/03_MAIR_Algoritmos_de_Optimizacion/blob/main/Algoritmos_AG2_R.ipynb\" target=\"_parent\"><img src=\"https://colab.research.google.com/assets/colab-badge.svg\" alt=\"Open In Colab\"/></a>"
      ]
    },
    {
      "cell_type": "markdown",
      "metadata": {
        "id": "ljsUdmaC1SFK"
      },
      "source": [
        "#Actividad Guiada 2\r\n",
        "Nombre: Ricard Ribalta \r\n",
        "\r\n",
        "URL: https://colab.research.google.com/drive/1seC1K9zSg6A9pGTwcKSA_AKy0zXamhSf?usp=sharing\r\n",
        "\r\n",
        "Github: https://github.com/ricardribalta/03_MAIR_Algoritmos_de_Optimizacion.git"
      ]
    },
    {
      "cell_type": "code",
      "metadata": {
        "id": "K25WHkSPxaPR"
      },
      "source": [
        "tarifa = [\r\n",
        "[0,5,4,3,999,999,999],\r\n",
        "[999,0,999,2,3,999,11],\r\n",
        "[999,999, 0,1,999,4,10],\r\n",
        "[999,999,999, 0,5,6,9],\r\n",
        "[999,999, 999,999,0,999,4],\r\n",
        "[999,999, 999,999,999,0,3],\r\n",
        "[999,999,999,999,999,999,0]\r\n",
        "]"
      ],
      "execution_count": null,
      "outputs": []
    },
    {
      "cell_type": "code",
      "metadata": {
        "id": "Fm80J-ZA2XnJ"
      },
      "source": [
        "def Precios(tarifas): \r\n",
        "  n = len(tarifas[0])\r\n",
        "  precios = [ [9999] * n for i in [9999] * n]\r\n",
        "  ruta = [ [\"\"] * n for i in [\"\"] * n]\r\n",
        "  for i in range(n - 1):\r\n",
        "    for j in range(i + 1, n):\r\n",
        "      Min = tarifas[i][j]\r\n",
        "      ruta[i][j] = i\r\n",
        "      for k in range(i, j):\r\n",
        "        if precios[i][k] + tarifas[k][j] < Min:\r\n",
        "            Min = min(Min, precios[i][k] + tarifas[k][j] )\r\n",
        "            ruta[i][j] = k\r\n",
        "        precios[i][j] = Min\r\n",
        "        \r\n",
        "  return precios,ruta"
      ],
      "execution_count": null,
      "outputs": []
    },
    {
      "cell_type": "code",
      "metadata": {
        "colab": {
          "base_uri": "https://localhost:8080/"
        },
        "id": "dHZ5Mcgu53kd",
        "outputId": "a2cc4575-a9e3-4b62-9a8b-efb62e95dcfd"
      },
      "source": [
        "precio,ruta = Precios(tarifa)\r\n",
        " #print(PRECIOS[0][6])\r\n",
        "\r\n",
        "print(\"Precios\")\r\n",
        "for i in range(len(tarifa)):\r\n",
        "  print(precio[i])\r\n",
        "\r\n",
        "print(\"\\n Rutata\")  \r\n",
        "for i in range(len(tarifa)):\r\n",
        "  print(ruta[i]) "
      ],
      "execution_count": null,
      "outputs": [
        {
          "output_type": "stream",
          "text": [
            "Precios\n",
            "[9999, 5, 4, 3, 8, 8, 11]\n",
            "[9999, 9999, 999, 2, 3, 8, 7]\n",
            "[9999, 9999, 9999, 1, 6, 4, 7]\n",
            "[9999, 9999, 9999, 9999, 5, 6, 9]\n",
            "[9999, 9999, 9999, 9999, 9999, 999, 4]\n",
            "[9999, 9999, 9999, 9999, 9999, 9999, 3]\n",
            "[9999, 9999, 9999, 9999, 9999, 9999, 9999]\n",
            "\n",
            " Rutata\n",
            "['', 0, 0, 0, 1, 2, 5]\n",
            "['', '', 1, 1, 1, 3, 4]\n",
            "['', '', '', 2, 3, 2, 5]\n",
            "['', '', '', '', 3, 3, 3]\n",
            "['', '', '', '', '', 4, 4]\n",
            "['', '', '', '', '', '', 5]\n",
            "['', '', '', '', '', '', '']\n"
          ],
          "name": "stdout"
        }
      ]
    },
    {
      "cell_type": "code",
      "metadata": {
        "colab": {
          "base_uri": "https://localhost:8080/",
          "height": 52
        },
        "id": "3A8lS6wZ6Gmz",
        "outputId": "498ebe64-2c89-4cd9-b876-d3204f0e8edb"
      },
      "source": [
        "def Calcular_ruta(ruta, desde, hasta):\r\n",
        "  if desde == hasta:\r\n",
        "    #print(\"Ir a :\" + str(desde))\r\n",
        "    return desde \r\n",
        "  else:\r\n",
        "    return str(Calcular_ruta(ruta, desde, ruta[desde][hasta])) +  ',' + str(ruta[desde][hasta]) \r\n",
        "\r\n",
        "print(\"La ruta más económica es:\")  \r\n",
        "Calcular_ruta(ruta, 0,6) "
      ],
      "execution_count": null,
      "outputs": [
        {
          "output_type": "stream",
          "text": [
            "La ruta más económica es:\n"
          ],
          "name": "stdout"
        },
        {
          "output_type": "execute_result",
          "data": {
            "application/vnd.google.colaboratory.intrinsic+json": {
              "type": "string"
            },
            "text/plain": [
              "'0,0,2,5'"
            ]
          },
          "metadata": {
            "tags": []
          },
          "execution_count": 41
        }
      ]
    },
    {
      "cell_type": "markdown",
      "metadata": {
        "id": "PHKx1eVH9LY3"
      },
      "source": [
        "##Problema de Asignacion de tarea"
      ]
    },
    {
      "cell_type": "code",
      "metadata": {
        "id": "BJwO0IQ_9O21"
      },
      "source": [
        "\r\n",
        "coste2=[[11,12,18,40],\r\n",
        "        [14,15,13,22],\r\n",
        "        [11,17,19,23],\r\n",
        "        [17,14,20,28]\r\n",
        "        ]\r\n"
      ],
      "execution_count": null,
      "outputs": []
    },
    {
      "cell_type": "code",
      "metadata": {
        "colab": {
          "base_uri": "https://localhost:8080/"
        },
        "id": "lcGHEgp__mEc",
        "outputId": "f45192fe-8df2-49c2-de46-5df73a5ce089"
      },
      "source": [
        "def Valor(s,costes):\r\n",
        "  valor = 0\r\n",
        "  for i in range(len(s)):\r\n",
        "    valor += costes[s[i]][i] \r\n",
        "  return valor\r\n",
        "  \r\n",
        "Valor((0, 1, 2, 3),coste2)"
      ],
      "execution_count": null,
      "outputs": [
        {
          "output_type": "execute_result",
          "data": {
            "text/plain": [
              "73"
            ]
          },
          "metadata": {
            "tags": []
          },
          "execution_count": 10
        }
      ]
    },
    {
      "cell_type": "code",
      "metadata": {
        "colab": {
          "base_uri": "https://localhost:8080/"
        },
        "id": "80jnAb7XAAAz",
        "outputId": "316fcd0e-77aa-4649-d902-e4ec004c6721"
      },
      "source": [
        "#Coste inferior para soluciones parciales\r\n",
        "#  (1,3,) Se asigna la tarea 1 al agente 0 y la tarea 3 al agente 1\r\n",
        "\r\n",
        "def CosteInferior(s,costes):\r\n",
        "  valor = 0\r\n",
        "  #Valores establecidos\r\n",
        "  for i in range(len(s)):\r\n",
        "    valor += costes[i][s[i]]\r\n",
        "\r\n",
        "  #Estimacion\r\n",
        "  for i in range( len(s), len(costes)   ):\r\n",
        "    valor += min( [ costes[j][i] for j in range(len(s), len(costes))  ])\r\n",
        "  return valor\r\n",
        "\r\n",
        "def CosteSuperior(s,costes):\r\n",
        "  valor = 0\r\n",
        "  #Valores establecidos\r\n",
        "  for i in range(len(s)):\r\n",
        "    valor += costes[i][s[i]]\r\n",
        "\r\n",
        "  #Estimacion\r\n",
        "  for i in range( len(s), len(costes)   ):\r\n",
        "    valor += max( [ costes[j][i] for j in range(len(s), len(costes))  ])\r\n",
        "  return valor\r\n",
        "\r\n",
        "CosteSuperior((0,1),coste2)\r\n",
        "\r\n"
      ],
      "execution_count": null,
      "outputs": [
        {
          "output_type": "execute_result",
          "data": {
            "text/plain": [
              "74"
            ]
          },
          "metadata": {
            "tags": []
          },
          "execution_count": 13
        }
      ]
    },
    {
      "cell_type": "code",
      "metadata": {
        "id": "hUPjSzZ2VxJr"
      },
      "source": [
        "#Genera tantos hijos como posibilidades haya para la siguiente elemento de la tupla\r\n",
        "#(0,) -> (0,1), (0,2), (0,3)\r\n",
        "def CrearHijos(nodo, n):\r\n",
        "  hijos = []\r\n",
        "  for i in range(n):\r\n",
        "    if i not in nodo:\r\n",
        "      hijos.append({'s':nodo +(i,)    })\r\n",
        "  return hijos"
      ],
      "execution_count": null,
      "outputs": []
    },
    {
      "cell_type": "code",
      "metadata": {
        "colab": {
          "base_uri": "https://localhost:8080/"
        },
        "id": "bxeCdcvqWc_f",
        "outputId": "255acc58-bd23-4d5b-d1a3-0ca6f191110e"
      },
      "source": [
        "def Ramificacion_y_poda(costes):\r\n",
        "#Construccion iterativa de soluciones(arbol). En cada etapa asignamos un agente(ramas).\r\n",
        "#Nodos del grafo  { s:(1,2),CI:3,CS:5  }\r\n",
        "  #print(COSTES)\r\n",
        "  dimension = len(costes)  \r\n",
        "  mejorSolucion=tuple( i for i in range(len(costes)) )\r\n",
        "  CotaSup = Valor(mejorSolucion,costes)\r\n",
        "  #print(mejorSolucion)\r\n",
        "  #print(\"Cota Superior:\", CotaSup)\r\n",
        "\r\n",
        "  nodos=[]\r\n",
        "  nodos.append({'s':(), 'ci':CosteInferior((),costes)} )\r\n",
        "\r\n",
        "  iteracion = 0\r\n",
        "\r\n",
        "  while( len(nodos) > 0):\r\n",
        "    iteracion +=1\r\n",
        "\r\n",
        "    nodo_prometedor = [ min(nodos, key=lambda x:x['ci']) ][0]['s']\r\n",
        "    #print(\"Nodo prometedor:\", nodo_prometedor)\r\n",
        "\r\n",
        "    #Ramificacion\r\n",
        "    #Se generan los hijos\r\n",
        "    hijos =[ {'s':x['s'], 'ci':CosteInferior(x['s'], costes)   } for x in CrearHijos(nodo_prometedor, dimension)]\r\n",
        "    #print(\"hijos \" + str(hijos))\r\n",
        "    #Revisamos la cota superior y nos quedamos con la mejor solucion si llegamos a una solucion final\r\n",
        "    nodoFinal = [x for x in hijos if len(x['s']) == dimension  ]\r\n",
        "    if len(nodoFinal) > 0: \r\n",
        "      #print(\"\\n********Soluciones:\",  [x for x in HIJOS if len(x['s']) == DIMENSION  ] )\r\n",
        "      if nodoFinal[0]['ci'] < CotaSup:\r\n",
        "        CotaSup = nodoFinal[0]['ci']\r\n",
        "        mejorSolucion = nodoFinal\r\n",
        " \r\n",
        "    #Poda\r\n",
        "    hijos = [x for x in hijos if x['ci'] < CotaSup]\r\n",
        "\r\n",
        "    #Añadimos los hijos \r\n",
        "    nodos.extend(hijos) \r\n",
        "\r\n",
        "    #Eliminamos el nodo ramificado\r\n",
        "    nodos =  [  x for x in nodos if x['s'] != nodo_prometedor    ]\r\n",
        "   \r\n",
        "  print(\"La solucion final es:\" ,mejorSolucion , \" en \" , iteracion , \" iteraciones\" , \" para dimension: \" ,dimension  )\r\n",
        "      \r\n",
        "\r\n",
        "\r\n",
        "Ramificacion_y_poda(coste2)"
      ],
      "execution_count": null,
      "outputs": [
        {
          "output_type": "stream",
          "text": [
            "La solucion final es: [{'s': (1, 2, 0, 3), 'ci': 64}]  en  10  iteraciones  para dimension:  4\n"
          ],
          "name": "stdout"
        }
      ]
    },
    {
      "cell_type": "markdown",
      "metadata": {
        "id": "bGFZe0XSZIWU"
      },
      "source": [
        "## Descenso del gradiente"
      ]
    },
    {
      "cell_type": "code",
      "metadata": {
        "id": "_SJD-TZJXrtV"
      },
      "source": [
        "import math                      \r\n",
        "import matplotlib.pyplot as plt  \r\n",
        "import numpy as np                \r\n",
        "import scipy as sc\r\n",
        "import random"
      ],
      "execution_count": null,
      "outputs": []
    },
    {
      "cell_type": "code",
      "metadata": {
        "id": "diV1F80JZYNK"
      },
      "source": [
        "#Definimos la funcion\r\n",
        "#Paraboloide\r\n",
        "f  = lambda X:      X[0]**2+X[1]**2      #Funcion\r\n",
        "df = lambda X: [2*X[0] , 2*X[1]]         #Gradiente"
      ],
      "execution_count": null,
      "outputs": []
    },
    {
      "cell_type": "code",
      "metadata": {
        "colab": {
          "base_uri": "https://localhost:8080/",
          "height": 282
        },
        "id": "4EK26lqAZe2r",
        "outputId": "c1fc34f3-2988-42b4-813d-c644028fd146"
      },
      "source": [
        "#Prepara los datos para dibujar mapa de niveles de Z\r\n",
        "resolucion = 100 \r\n",
        "rango=2.5\r\n",
        "X=np.linspace(-rango,rango,resolucion) \r\n",
        "Y=np.linspace(-rango,rango,resolucion)\r\n",
        "Z=np.zeros((resolucion,resolucion))\r\n",
        "for ix,x in enumerate(X):\r\n",
        "  for iy,y in enumerate(Y):\r\n",
        "    Z[iy,ix] = f([x,y])\r\n",
        "\r\n",
        "#Pinta el mapa de niveles de Z\r\n",
        "plt.contourf(X,Y,Z,resolucion)\r\n",
        "plt.colorbar() \r\n",
        "\r\n",
        "#Generamos un punto aleatorio\r\n",
        "P=[random.uniform(-2,2  ),random.uniform(-2,2 ) ]\r\n",
        "plt.plot(P[0],P[1],\"o\",c=\"white\")\r\n",
        "\r\n",
        "#Tasa de aprendizaje\r\n",
        "TA=.1 \r\n",
        "\r\n",
        "#Iteraciones\r\n",
        "for _ in range(500):\r\n",
        "  grad = df(P)\r\n",
        "  #print(P,grad)\r\n",
        "  P[0],P[1] = P[0] - TA*grad[0] , P[1] - TA*grad[1]\r\n",
        "  plt.plot(P[0],P[1],\"o\",c=\"red\")\r\n",
        "\r\n",
        "plt.plot(P[0],P[1],\"o\",c=\"green\")\r\n",
        "plt.show()\r\n",
        "print(\"Solucion:\" , P , f(P))"
      ],
      "execution_count": null,
      "outputs": [
        {
          "output_type": "display_data",
          "data": {
            "image/png": "[encoded data removed]",
            "text/plain": [
              "<Figure size 432x288 with 2 Axes>"
            ]
          },
          "metadata": {
            "tags": []
          }
        },
        {
          "output_type": "stream",
          "text": [
            "Solucion: [-8.10714294266653e-50, 4.179286282950203e-49] 1.8123691501784002e-97\n"
          ],
          "name": "stdout"
        }
      ]
    },
    {
      "cell_type": "markdown",
      "metadata": {
        "id": "koGrLfvKfLRG"
      },
      "source": [
        "# Practica: Ramificación y Poda\r\n",
        "## Análisis para mejorar nota:"
      ]
    },
    {
      "cell_type": "markdown",
      "metadata": {
        "id": "yyx9xdfufeti"
      },
      "source": [
        "¿Que complejidad tiene el algoritmo por fuerza bruta?\r\n",
        "\r\n"
      ]
    },
    {
      "cell_type": "markdown",
      "metadata": {
        "id": "AgdJLZUphxko"
      },
      "source": [
        "*solucionar el problema \"Asignación de tareas\" por fuerza buta supone una complejidad de n!"
      ]
    },
    {
      "cell_type": "code",
      "metadata": {
        "colab": {
          "base_uri": "https://localhost:8080/"
        },
        "id": "tBa6Mv55f46y",
        "outputId": "c9d8a197-6ca8-430c-cc7b-4be15c4f6e6b"
      },
      "source": [
        "import itertools    \r\n",
        "\r\n",
        "def AsignacionTareasFuerzaBruta(costes):\r\n",
        "  costeMin = 10e10\r\n",
        "  convinacionMin = ()\r\n",
        "  for s in list(itertools.permutations(range(len(costes)))):\r\n",
        "    valorTemp = Valor(s, costes)\r\n",
        "    if valorTemp < costMin:\r\n",
        "      costeMin = valorTemp\r\n",
        "      convinacionMin = s\r\n",
        "  return costeMin, convinacionMin\r\n",
        "\r\n",
        "costMin, convMin = AsignacionTareasFuerzaBruta(coste2)\r\n",
        "\r\n",
        "costMin, convMin\r\n",
        "\r\n",
        "\r\n"
      ],
      "execution_count": null,
      "outputs": [
        {
          "output_type": "execute_result",
          "data": {
            "text/plain": [
              "(61, (0, 3, 1, 2))"
            ]
          },
          "metadata": {
            "tags": []
          },
          "execution_count": 48
        }
      ]
    },
    {
      "cell_type": "markdown",
      "metadata": {
        "id": "E2wyqywifjN3"
      },
      "source": [
        "Generar matrices con valores aleatorios de mayores\r\n",
        "dimensiones (5,6,7,…) y ejecutar ambos algoritmos."
      ]
    },
    {
      "cell_type": "code",
      "metadata": {
        "colab": {
          "base_uri": "https://localhost:8080/"
        },
        "id": "82-_xroo8tmt",
        "outputId": "24c57855-98b8-4698-ecbc-12b84acd4644"
      },
      "source": [
        "\r\n",
        "\r\n",
        "def CostesN(n):\r\n",
        "  i = 0\r\n",
        "  costesN = []\r\n",
        "  for i in range(n):\r\n",
        "    costesN.append([random.randrange(0,50) for x in range(n)])\r\n",
        "  return costesN\r\n",
        "\r\n",
        "costesN = CostesN(12)\r\n",
        "costesN"
      ],
      "execution_count": null,
      "outputs": [
        {
          "output_type": "execute_result",
          "data": {
            "text/plain": [
              "[[1, 39, 17, 28, 33, 45, 3, 4, 39, 45, 16, 22],\n",
              " [47, 48, 11, 44, 0, 37, 13, 49, 35, 36, 18, 19],\n",
              " [44, 43, 41, 36, 44, 31, 35, 2, 6, 11, 39, 1],\n",
              " [23, 31, 32, 2, 4, 17, 8, 3, 17, 12, 6, 47],\n",
              " [35, 35, 11, 46, 10, 24, 42, 3, 31, 13, 13, 17],\n",
              " [49, 34, 43, 42, 24, 42, 4, 19, 3, 11, 36, 21],\n",
              " [20, 43, 30, 21, 14, 27, 0, 5, 45, 12, 24, 15],\n",
              " [23, 21, 16, 13, 20, 43, 43, 7, 13, 11, 43, 31],\n",
              " [29, 37, 49, 1, 30, 32, 7, 13, 44, 30, 45, 31],\n",
              " [42, 41, 43, 41, 27, 26, 31, 1, 2, 13, 28, 1],\n",
              " [7, 15, 10, 22, 3, 48, 9, 1, 6, 23, 25, 43],\n",
              " [14, 20, 23, 34, 15, 42, 34, 6, 49, 26, 47, 38]]"
            ]
          },
          "metadata": {
            "tags": []
          },
          "execution_count": 93
        }
      ]
    },
    {
      "cell_type": "markdown",
      "metadata": {
        "id": "SnT5jwzHfvj3"
      },
      "source": [
        "¿A partir de que dimensión el algoritmo por fuerza bruta\r\n",
        "deja de ser una opción?\r\n",
        "\r\n",
        "*Por fuerza bruta, a paritr de las 11 tareas tarda un tiempo considerable. Realiza un total de 11! = 39916800 operaciones.*\r\n",
        "\r\n",
        "*Mientras que por ramificación y poda unas 2538 iteraciones.*"
      ]
    },
    {
      "cell_type": "code",
      "metadata": {
        "colab": {
          "base_uri": "https://localhost:8080/"
        },
        "id": "i2lOIYvi-WAA",
        "outputId": "5a8bce7f-028e-4fb4-ae61-99cd9a1dae63"
      },
      "source": [
        "costMin, convMin = AsignacionTareasFuerzaBruta(costesN)\r\n",
        "costMin, convMin"
      ],
      "execution_count": null,
      "outputs": [
        {
          "output_type": "execute_result",
          "data": {
            "text/plain": [
              "(162, (10, 9, 8, 6, 3, 7, 5, 0, 1, 4, 2))"
            ]
          },
          "metadata": {
            "tags": []
          },
          "execution_count": 73
        }
      ]
    },
    {
      "cell_type": "code",
      "metadata": {
        "colab": {
          "background_save": true
        },
        "id": "V4_J_8qZ-fSb",
        "outputId": "f743ffb1-3508-4dd0-b6a2-dfbfb102f0c1"
      },
      "source": [
        "#Ramificacion_y_poda(costesN)\r\n",
        "Ramificacion_y_poda(CostesN(12))"
      ],
      "execution_count": null,
      "outputs": [
        {
          "output_type": "stream",
          "text": [
            "La solucion final es: [{'s': (7, 0, 1, 11, 4, 2, 9, 5, 8, 10, 6, 3), 'ci': 78}]  en  35272  iteraciones  para dimension:  12\n"
          ],
          "name": "stdout"
        }
      ]
    },
    {
      "cell_type": "markdown",
      "metadata": {
        "id": "nySXaJSGfy9p"
      },
      "source": [
        "¿Hay algún valor de la dimensión a partir de la\r\n",
        "cual el algoritmo de ramificación y poda deja\r\n",
        "de ser una opción válida?"
      ]
    },
    {
      "cell_type": "markdown",
      "metadata": {
        "id": "cXONAlIdEA78"
      },
      "source": [
        "*A partir de la las 12 tareas tambien tarda a sacar un resultado*"
      ]
    }
  ]
}