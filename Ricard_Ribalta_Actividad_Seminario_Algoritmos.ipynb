{
  "nbformat": 4,
  "nbformat_minor": 0,
  "metadata": {
    "colab": {
      "name": "Ricard_Ribalta_Actividad_Seminario_Algoritmos.ipynb",
      "provenance": [],
      "collapsed_sections": [],
      "include_colab_link": true
    },
    "kernelspec": {
      "display_name": "Python 3",
      "language": "python",
      "name": "python3"
    },
    "language_info": {
      "codemirror_mode": {
        "name": "ipython",
        "version": 3
      },
      "file_extension": ".py",
      "mimetype": "text/x-python",
      "name": "python",
      "nbconvert_exporter": "python",
      "pygments_lexer": "ipython3",
      "version": "3.8.5"
    }
  },
  "cells": [
    {
      "cell_type": "markdown",
      "metadata": {
        "id": "view-in-github",
        "colab_type": "text"
      },
      "source": [
        "<a href=\"https://colab.research.google.com/github/ricardribalta/03_MAIR_Algoritmos_de_Optimizacion/blob/main/Ricard_Ribalta_Actividad_Seminario_Algoritmos.ipynb\" target=\"_parent\"><img src=\"https://colab.research.google.com/assets/colab-badge.svg\" alt=\"Open In Colab\"/></a>"
      ]
    },
    {
      "cell_type": "markdown",
      "metadata": {
        "id": "hVbXYX-RfPWh"
      },
      "source": [
        "# Algoritmos de optimización - Seminario<br>\n",
        "Nombre y Apellidos: Ricard Ribalta Bargalló  <br>\n",
        "Url GitHub:https://github.com/ricardribalta/03_MAIR_Algoritmos_de_Optimizacion<br>\n",
        "Url_GoogleColab: https://drive.google.com/file/d/1I-Wq6MBnjBV1LsgSvPCHIriM8fgvH5Ly/view?usp=sharing\n",
        "\n",
        "Problema:\n",
        "> 1. Organizar sesiones de doblaje <br>\n",
        ">2. Organizar los horarios de partidos de La Liga<br>\n",
        ">3. Combinar cifras y operaciones\n",
        "\n",
        "Descripción del problema:(copiar enunciado)\n",
        "\n",
        "1. Organizar sesiones de doblaje:\n",
        "\n",
        "  Se precisa coordinar el doblaje de una película. Los actores del doblaje deben coincidir en las\n",
        "tomas en las que sus personajes aparecen juntos en las diferentes tomas. Los actores de\n",
        "doblaje cobran todos la misma cantidad por cada día que deben desplazarse hasta el estudio de\n",
        "grabación independientemente del número de tomas que se graben. No es posible grabar más\n",
        "de 6 tomas por día. El objetivo es planificar las sesiones por día de manera que se gasto por los\n",
        "servicios de los actores de doblaje sea el menor posible.\n",
        "\n",
        "\n",
        "\n",
        "(*) La respuesta es obligatoria\n",
        "\n",
        "\n",
        "\n",
        "\n",
        "\n",
        "                                        "
      ]
    },
    {
      "cell_type": "markdown",
      "metadata": {
        "id": "3_-exlrTgLd-"
      },
      "source": [
        "(*)¿Cuantas posibilidades hay sin tener en cuenta las restricciones?<br>\n",
        "\n"
      ]
    },
    {
      "cell_type": "markdown",
      "metadata": {
        "id": "19GZD2NoslOd"
      },
      "source": [
        "Respuesta\r\n",
        "\r\n",
        ">Como la restriccion que hay es de un máximo de 6 tomas por dia, si la quitamos, se podrian gravar todas el mismo dia, así que tendríamos una solución única.\r\n",
        "\r\n",
        "\r\n"
      ]
    },
    {
      "cell_type": "markdown",
      "metadata": {
        "id": "xVSoWYT_ucW1"
      },
      "source": [
        "¿Cuantas posibilidades hay teniendo en cuenta todas las restricciones?"
      ]
    },
    {
      "cell_type": "markdown",
      "metadata": {
        "id": "VJpQR4D5u7sp"
      },
      "source": [
        "Respuesta\r\n",
        "\r\n",
        "\r\n",
        "\r\n",
        "\r\n",
        "> $$posibilidades = \\frac{(n-1)!}{m!}$$    \r\n",
        "Siendo n el número de escenas totales (30) y m las máximas por dia (6)\r\n",
        "\r\n"
      ]
    },
    {
      "cell_type": "markdown",
      "metadata": {
        "id": "dzynfVJahHoY"
      },
      "source": [
        "Modelo para el espacio de soluciones<br>\n",
        "(*) ¿Cual es la estructura de datos que mejor se adapta al problema? Argumentalo.(Es posible que hayas elegido una al principio y veas la necesidad de cambiar, arguentalo)\n"
      ]
    },
    {
      "cell_type": "markdown",
      "metadata": {
        "id": "xFIJrOwKi2Ti"
      },
      "source": [
        "Respuesta\r\n",
        "\r\n",
        "\r\n",
        "\r\n",
        "> En un principio plantearia dos estructuras, la primera seria una Lista de Listas dende tendríamos las escenas con los actores de cada una de ellas y la segunda correspondria a una lista con las escenas asociadasgravadas por dia\r\n",
        "\r\n",
        "\r\n",
        "\r\n"
      ]
    },
    {
      "cell_type": "code",
      "metadata": {
        "id": "38c-7-ejhJmA"
      },
      "source": [
        ""
      ],
      "execution_count": null,
      "outputs": []
    },
    {
      "cell_type": "markdown",
      "metadata": {
        "id": "7Z9U2W7bi-XS"
      },
      "source": [
        "Según el modelo para el espacio de soluciones<br>\n",
        "(*)¿Cual es la función objetivo?\n",
        "\n"
      ]
    },
    {
      "cell_type": "markdown",
      "metadata": {
        "id": "hBalWLM7j1_d"
      },
      "source": [
        "Respuesta\r\n",
        "\r\n",
        "\r\n",
        "> la funcion objetivo consiste en obtener el menor coste posible por el doblajes de las 30 tomas\r\n",
        ">\r\n",
        ">En el pero de los casos habrá $$\\frac{30(tomas)}{6(tomasMáx)} = 5(desplazamientos)$$ dónde, al menos uno de los actores coincidiria en todas las tomas.\r\n",
        "El coste màximo seria $$5·10·x $$  x corresponde a la paga.\r\n",
        ">\r\n",
        ">Tenemos como objetivo mejorar estos 5 desplazamientos.\r\n",
        "\r\n",
        "\r\n"
      ]
    },
    {
      "cell_type": "markdown",
      "metadata": {
        "id": "7W_uQooBNWGn"
      },
      "source": [
        "(*)¿Es un problema de maximización o minimización?"
      ]
    },
    {
      "cell_type": "markdown",
      "metadata": {
        "id": "7NxCgaapNVmg"
      },
      "source": [
        "Respuesta\r\n",
        "\r\n",
        "\r\n",
        "> Corresponde a un problema de minimzación, ya que estamos buscando la reducción de costes.\r\n",
        ">\r\n",
        " >Por otro lado, podríamos maximizar la cantidad de tomas por dia para minimizar los costes\r\n",
        "\r\n"
      ]
    },
    {
      "cell_type": "markdown",
      "metadata": {
        "id": "rlnTYgY1j6I2"
      },
      "source": [
        "Diseña un algoritmo para resolver el problema por fuerza bruta"
      ]
    },
    {
      "cell_type": "markdown",
      "metadata": {
        "id": "70rDgxYXkC8r"
      },
      "source": [
        "Respuesta"
      ]
    },
    {
      "cell_type": "code",
      "metadata": {
        "id": "pDA-rg3Gj5Lz"
      },
      "source": [
        "import pandas as pd\r\n",
        "\r\n",
        "filepath = 'https://raw.githubusercontent.com/AdrienFelipe/03MAIR---Algoritmos-de-Optimizacion---2019/master/seminar/res/data.csv'\r\n",
        "dataFrame = pd.read_csv(filepath, index_col=0)\r\n",
        "\r\n",
        "# Lista de actores por toma\r\n",
        "costs = tuple(dataFrame.itertuples(index=False, name=None))\r\n",
        "#costs = costs[0:6] #para testear el codigo sin que se demore mucho\r\n",
        "tomas = 6\r\n"
      ],
      "execution_count": null,
      "outputs": []
    },
    {
      "cell_type": "code",
      "metadata": {
        "id": "9EKST3gUJ0W-"
      },
      "source": [
        "import numpy as np\r\n",
        "from itertools import permutations  \r\n",
        "\r\n",
        "\r\n",
        "def CalcularCoste(solution, max_takes, costs):\r\n",
        "    totalTomas = 0 \r\n",
        "    session_is_full = False\r\n",
        "    #cremos una lista para contabilizar las tomas gravadas poc cada actor y no superar el màximo esablezido\r\n",
        "    sumaActore = np.zeros(len(costs[0])) \r\n",
        "    numeroDesplazamientos = 0\r\n",
        "\r\n",
        "\r\n",
        "    for take in solution:\r\n",
        "      #contamos cada toma realizada por cada actor, \r\n",
        "        for i in range(len(costs[take])):\r\n",
        "          sumaActore[i] = sumaActore[i] + costs[take][i]\r\n",
        "          #caso que llega a su màximo\r\n",
        "          if sumaActore[i] == max_takes:\r\n",
        "            session_is_full = True\r\n",
        "        #reiniciamos el contador de tomas por actor y simamos uno al desplazamiento\r\n",
        "        if session_is_full:\r\n",
        "          numeroDesplazamientos = numeroDesplazamientos + 1\r\n",
        "          sumaActore = np.zeros(len(costs[0]))\r\n",
        "\r\n",
        "    if numeroDesplazamientos == 0:\r\n",
        "       numeroDesplazamientos = 1\r\n",
        "       \r\n",
        "    return numeroDesplazamientos"
      ],
      "execution_count": null,
      "outputs": []
    },
    {
      "cell_type": "code",
      "metadata": {
        "id": "CJb5sQ0qkENy",
        "colab": {
          "base_uri": "https://localhost:8080/"
        },
        "outputId": "9b4bd204-50bb-4426-8aaf-85b34ce76121"
      },
      "source": [
        "\r\n",
        "\r\n",
        "\r\n",
        "def FuerzaBruta(costs, max_takes):\r\n",
        "    #obtenemos todas las combinaciones posibles\r\n",
        "    solutcion = list(permutations([*range(0, len(costs)-1, 1)]))\r\n",
        "    best_solution = None\r\n",
        "    best_solution_cost = None\r\n",
        "    #por cada una de las soluciones anteriores contamos el número de desplazamientos.\r\n",
        "    #si es mejor, nos quedamos la solucion y sus desplazamientso.\r\n",
        "    for solution in solutcion:\r\n",
        "        solution_cost = CalcularCoste(solution, max_takes, costs)\r\n",
        "        if best_solution is None or solution_cost < best_solution_cost:\r\n",
        "            best_solution = solution\r\n",
        "            best_solution_cost = solution_cost\r\n",
        "\r\n",
        "    return best_solution, best_solution_cost\r\n",
        "\r\n",
        "\r\n",
        "FuerzaBruta(costs, tomas)"
      ],
      "execution_count": null,
      "outputs": [
        {
          "output_type": "execute_result",
          "data": {
            "text/plain": [
              "((1, 3, 0, 2), 2)"
            ]
          },
          "metadata": {
            "tags": []
          },
          "execution_count": 23
        }
      ]
    },
    {
      "cell_type": "markdown",
      "metadata": {
        "id": "tgrnsC2nkFa8"
      },
      "source": [
        "Calcula la complejidad del algoritmo por fuerza bruta"
      ]
    },
    {
      "cell_type": "markdown",
      "metadata": {
        "id": "9eUd3xwckP68"
      },
      "source": [
        "Respuesta\r\n",
        "\r\n",
        "> La complejida del algorimto por fuerza bruta seria\r\n",
        "> $${O=n!·n·a => 30!·30·10 = 7.957e34 }$$\r\n",
        "> Donde \"n\" son el total de tomas y \"a\" los actores\r\n",
        "\r\n"
      ]
    },
    {
      "cell_type": "markdown",
      "metadata": {
        "id": "txbrmLmskReM"
      },
      "source": [
        "(*)Diseña un algoritmo que mejore la complejidad del algortimo por fuerza bruta. Argumenta porque crees que mejora el algoritmo por fuerza bruta"
      ]
    },
    {
      "cell_type": "markdown",
      "metadata": {
        "id": "hLrVwt5QkZPD"
      },
      "source": [
        "Respuesta\r\n",
        "> He planteado algunas soluciones con métodos metaheurísticos.\r\n",
        "> Todos ellos se basan en la aleatoriedad de escojer distintas combinacie del conjunto de permutacion.\r\n",
        ">\r\n",
        "> Es posible que no obtengamos el resultado más ajustado però será parecido, ya que puden haver mas de una posible combinación vàlida.\r\n",
        ">\r\n",
        "> Entre otros podems encontrar: la busqueda aleatoria, busqueda local y recocido simulado.\r\n",
        ">\r\n",
        ">Este algoritmo de Recocido simulado mejorará el de fuerza bruta por distintos motivos. Tendremos una funcion para determinar un coste determinado del qual tenemos que bajar. Tambien será más rápido poruqe nos vasaremos en busquedas aleatorias dentro de todas las posibles combinaciones y sacando la mejor solucion de ellas."
      ]
    },
    {
      "cell_type": "code",
      "metadata": {
        "id": "m1eyM21Vkabg",
        "colab": {
          "base_uri": "https://localhost:8080/"
        },
        "outputId": "1568ebb7-394e-4214-bbc6-40091ec4ea1b"
      },
      "source": [
        "import random         #Modulo para generar números aleatorios\r\n",
        "from math import e    #constante e\r\n",
        "import copy           #Para copia profunda de estructuras de datos(en python la asignación es por referencia)\r\n",
        "import math\r\n",
        "import numpy as np\r\n",
        "from itertools import permutations\r\n",
        "\r\n",
        "Nodos = list(permutations([*range(0, len(costs)-1, 1)]))\r\n",
        "\r\n",
        "#Funcionas basicas      \r\n",
        "     \r\n",
        "#Se genera una solucion aleatoria con comienzo en en el nodo 0\r\n",
        "def crear_solucion(Nodos): \r\n",
        "  solucion = [Nodos[0]]\r\n",
        "  for n in Nodos[1:]:\r\n",
        "    solucion = solucion + [random.choice(list(set(Nodos) - set({Nodos[0]}) - set(solucion)))]\r\n",
        "  return solucion \r\n",
        "\r\n",
        "def CosteTotal(solucions, max_takes, costs):\r\n",
        "  mejor_solucion = []\r\n",
        "  mejor_distancia = 10e100\r\n",
        "  for solution in solucions:\r\n",
        "       distancia = CalcularCoste(solution, max_takes, costs)  #Calcula el valor objetivo(distancia total)\r\n",
        "       if distancia < mejor_distancia:                 #Compara con la mejor obtenida hasta ahora\r\n",
        "          mejor_solucion = solution\r\n",
        "          mejor_distancia = distancia\r\n",
        "  return (mejor_solucion, mejor_distancia)\r\n",
        "\r\n",
        "def busqueda_aleatoria(costs, N, max_takes):\r\n",
        "  \r\n",
        "  Nodos = list(permutations([*range(0, len(costs)-1, 1)]))\r\n",
        "  \r\n",
        "  mejor_solucion = []\r\n",
        "  mejor_distancia = 10e100                          #Inicializamos con un valor alto\r\n",
        "  \r\n",
        "  for i in range(N):                                #Criterio de parada: repetir N veces pero podemos incluir otros\r\n",
        "    solucion = crear_solucion(Nodos)                #Genera una solucion aleatoria\r\n",
        "    for solution in solucion:\r\n",
        "      distancia = CalcularCoste(solution, max_takes, costs)  #Calcula el valor objetivo(distancia total)\r\n",
        "      if distancia < mejor_distancia:                 #Compara con la mejor obtenida hasta ahora\r\n",
        "       mejor_solucion = solution\r\n",
        "       mejor_distancia = distancia\r\n",
        "    \r\n",
        "      \r\n",
        "       \r\n",
        "  print(\"Mejor solución: \" , mejor_solucion) \r\n",
        "  print(\"Desplazamientos: \" , mejor_distancia) \r\n",
        "  return mejor_solucion  \r\n",
        "\r\n",
        "    \r\n",
        "solucion = busqueda_aleatoria(costs, 5, tomas)   #------------------\r\n",
        "\r\n",
        "def genera_vecina(solucion, costs, max_takes):\r\n",
        "  #Generador de soluciones vecinas: 2-opt (intercambiar 2 nodos) Si hay N nodos se generan (N-1)x(N-2)/2 soluciones\r\n",
        "  #print(solucion)\r\n",
        "  mejor_solucion = []\r\n",
        "  mejor_distancia = (len(costs)+1)%max_takes\r\n",
        "  for i in range(1,len(solucion)-1):          #Recorremos todos los nodos en bucle doble para evaluar todos los intercambios 2-opt\r\n",
        "    for j in range(i+1, len(solucion)):\r\n",
        "      \r\n",
        "      #Se genera una nueva solución intercambiando los dos nodos i,j:\r\n",
        "      #  (usamos el operador + que para listas en python las concatena) : ej.: [1,2] + [3] = [1,2,3]\r\n",
        "      vecina = solucion[:i] + [solucion[j]] + solucion[i+1:j] + [solucion[i]] + solucion[j+1:]  \r\n",
        "\r\n",
        "      #Se evalua la nueva solución ...\r\n",
        "      vacinaI, distancia_vecina = CosteTotal(vecina, max_takes, costs)        \r\n",
        "\r\n",
        "      #... para guardarla si mejora las anteriores\r\n",
        "      if distancia_vecina <= mejor_distancia:\r\n",
        "        mejor_distancia = distancia_vecina\r\n",
        "        mejor_solucion = vacinaI\r\n",
        "  return mejor_solucion\r\n",
        "\r\n",
        "\r\n",
        "#Busqueda Local:\r\n",
        "#  - Sobre el operador de vecindad 2-opt(funcion genera_vecina)\r\n",
        "#  - Sin criterio de parada, se para cuando no es posible mejorar.\r\n",
        "def busqueda_local(problem, tomas):\r\n",
        "  mejor_solucion = []\r\n",
        "  \r\n",
        "  #Generar una solucion inicial de referencia(aleatoria)\r\n",
        "  solucion_referencia = crear_solucion(Nodos)\r\n",
        "  mejorSOl, mejor_distancia = CosteTotal(solucion_referencia, tomas, problem)\r\n",
        "\r\n",
        "  iteracion=0   #Un contador para saber las iteraciones que hacemos\r\n",
        "  while(1):\r\n",
        "    iteracion +=1     #Incrementamos el contador\r\n",
        "    #print('#',iteracion)\r\n",
        "\r\n",
        "    #Obtenemos la mejor vecina ...\r\n",
        "    vecina = genera_vecina(solucion_referencia, costs, tomas)\r\n",
        "    #... y la evaluamos para ver si mejoramos respecto a lo encontrado hasta el momento\r\n",
        "    vecianI, distancia_vecina = CosteTotal(vecina,tomas, problem)\r\n",
        " \r\n",
        "    #Si no mejoramos hay que terminas. Hemos llegado a un minimo local(según nuestro operador de vencindad)\r\n",
        "    if distancia_vecina < mejor_distancia:\r\n",
        "      mejor_solucion = vecianI    #Con copia profunda. Las copias en python son por referencia \r\n",
        "      mejor_distancia = distancia_vecina\r\n",
        "    else:\r\n",
        "      print(\"En la iteracion \", iteracion, \", la mejor solución encontrada es:\" , mejor_solucion) \r\n",
        "      print(\"con una total de desplazamientos: \" , mejor_distancia) \r\n",
        "      return mejor_solucion\r\n",
        "      \r\n",
        "    solucion_referencia = vecina\r\n",
        " \r\n",
        " \r\n",
        "sol = busqueda_local(costs, tomas)      #---------------------------------\r\n",
        "\r\n",
        "\r\n",
        "def genera_vecina_aleatorio(solucion):\r\n",
        "\r\n",
        "  #Se eligen dos nodos aleatoriamente\r\n",
        "  i,j = sorted(random.sample( range(1,len(solucion)) , 2))\r\n",
        "  \r\n",
        "  #Devuelve una nueva solución pero intercambiando los dos nodos elegidos al azar\r\n",
        "  return solucion[:i] + [solucion[j]] + solucion[i+1:j] + [solucion[i]] + solucion[j+1:]\r\n",
        "  \r\n",
        "\r\n",
        "genera_vecina_aleatorio(list(solucion)) \r\n",
        "\r\n",
        "\r\n",
        "\r\n",
        "#Funcion de probabilidad para aceptar peores soluciones\r\n",
        "def probabilidad(T,d):\r\n",
        "  if random.random() <  math.exp( -1*d / T)  :\r\n",
        "    return True\r\n",
        "  else:\r\n",
        "    return False\r\n",
        "\r\n",
        "#Funcion de descenso de temperatura\r\n",
        "def bajar_temperatura(T):\r\n",
        "  return T*0.99\r\n",
        "  \r\n",
        "\r\n",
        "\r\n",
        "\r\n",
        "def recocido_simulado(problem, tomas, TEMPERATURA ):\r\n",
        "  #problem = datos del problema\r\n",
        "  #T = Temperatura\r\n",
        "  \r\n",
        "  solucion_referencia = crear_solucion(Nodos)\r\n",
        "  vecianI, distancia_referencia = CosteTotal(solucion_referencia,tomas, problem)\r\n",
        "\r\n",
        "  mejor_solucion = []\r\n",
        "  mejor_distancia = 10e100\r\n",
        "  \r\n",
        "  \r\n",
        "  N=0\r\n",
        "  while TEMPERATURA > 0.9:\r\n",
        "    N+=1\r\n",
        "    #Genera una solución vecina\r\n",
        "    vecina =genera_vecina_aleatorio(solucion_referencia)\r\n",
        "    \r\n",
        "    #Calcula su valor(distancia)\r\n",
        "    vecianI, distancia_vecina = CosteTotal(vecina,tomas, problem)\r\n",
        "\r\n",
        "    #Si es la mejor solución de todas se guarda(siempre!!!)\r\n",
        "    if distancia_vecina < mejor_distancia:\r\n",
        "        mejor_solucion = vecianI\r\n",
        "        mejor_distancia = distancia_vecina\r\n",
        "    \r\n",
        "    #Si la nueva vecina es mejor se cambia  \r\n",
        "    #Si es peor se cambia según una probabilidad que depende de T y delta(distancia_referencia - distancia_vecina)\r\n",
        "    if distancia_vecina < distancia_referencia or probabilidad(TEMPERATURA, abs(distancia_referencia - distancia_vecina) ) :\r\n",
        "      solucion_referencia = copy.deepcopy(vecina)\r\n",
        "      distancia_referencia = distancia_vecina\r\n",
        "\r\n",
        "    #Bajamos la temperatura\r\n",
        "    TEMPERATURA = bajar_temperatura(TEMPERATURA)\r\n",
        " \r\n",
        "  print(\"La mejor solución encontrada es \" , end=\"\")\r\n",
        "  print(mejor_solucion)\r\n",
        "  print(\"con una total de desplazamientos: \" , end=\"\")\r\n",
        "  print(mejor_distancia)\r\n",
        "  return mejor_solucion\r\n",
        "\r\n",
        "sol  = recocido_simulado(costs, tomas, 100)      #-----------------------------"
      ],
      "execution_count": null,
      "outputs": [
        {
          "output_type": "stream",
          "text": [
            "Mejor solución:  (1, 3, 2, 0, 4)\n",
            "Desplazamientos:  3\n",
            "En la iteracion  1 , la mejor solución encontrada es: []\n",
            "con una total de desplazamientos:  3\n",
            "La mejor solución encontrada es (1, 3, 4, 0, 2)\n",
            "con una total de desplazamientos: 3\n"
          ],
          "name": "stdout"
        }
      ]
    },
    {
      "cell_type": "markdown",
      "metadata": {
        "id": "eGDB4K6uk1iN"
      },
      "source": [
        "(*)Calcula la complejidad del algoritmo "
      ]
    },
    {
      "cell_type": "markdown",
      "metadata": {
        "id": "NhpTh_BPk1ms"
      },
      "source": [
        "Respuesta\r\n",
        "\r\n",
        ">tendríamos unas $$\\frac{n·(n-1)}{2}$$\r\n",
        ">Si tenemos n muy grandes, los facotes constantes no tiene un peso muy importante. pasar de 9999 a 9998, no mejora mucho con lo que podemos asumir que es  $$\\frac{n·n}{2}$$ y $$\\frac{n^2}{2}$$ podríamos de cir que se comportaria mas o menos como $$n^2$$\r\n",
        "Por tanto la complejidad seria \r\n",
        ">$$ O(n^2)$$"
      ]
    },
    {
      "cell_type": "markdown",
      "metadata": {
        "id": "3M6QjTsSkmYe"
      },
      "source": [
        "Según el problema (y tenga sentido), diseña un juego de datos de entrada aleatorios"
      ]
    },
    {
      "cell_type": "markdown",
      "metadata": {
        "id": "Jc3_OlyNkvjZ"
      },
      "source": [
        "Respuesta"
      ]
    },
    {
      "cell_type": "code",
      "metadata": {
        "id": "sJ-N2etjkyWc",
        "colab": {
          "base_uri": "https://localhost:8080/",
          "height": 336
        },
        "outputId": "9963f5a1-e8b9-4e18-e2cf-8ee9d22763dc"
      },
      "source": [
        "import random\r\n",
        "\r\n",
        "# Máximo de tomas para el juego de datos.\r\n",
        "total_takes = 24\r\n",
        "\r\n",
        "# Número máximo de sesiones.\r\n",
        "sessions = random.randint(3, int(total_takes / 2))\r\n",
        "\r\n",
        "# Restricción de número de tomas por sesión.\r\n",
        "session_takes = random.randint(2, int(total_takes / sessions))\r\n",
        "\r\n",
        "# Número de tomas.\r\n",
        "takes = session_takes * sessions\r\n",
        "\r\n",
        "# Número de actores a tener en cuenta\r\n",
        "actors = random.randint(4, 20)\r\n",
        "\r\n",
        "# Probabilidad de actuar en una toma.\r\n",
        "p = 0.2  # 20%\r\n",
        "\r\n",
        "# Generamos los costes.\r\n",
        "random_costs = ()\r\n",
        "for take_id in range(takes):\r\n",
        "    take = []\r\n",
        "    for actor in range(actors):\r\n",
        "        take.append(int(random.random() < p))\r\n",
        "    # Nos aseguramos tener al menos 1 actor por toma.\r\n",
        "    if not sum(take):\r\n",
        "        actor = random.randint(0, actors - 1)\r\n",
        "        take[actor] = 1\r\n",
        "\r\n",
        "    random_costs += (take,)\r\n",
        "\r\n",
        "print('Total de tomas:', takes)\r\n",
        "print('Tomas por sesión:', sessions)\r\n",
        "print('Total de actores:', actors)\r\n",
        "print('Costes:')\r\n",
        "display(random_costs)\r\n",
        "\r\n",
        "#random_costs = random_costs[0:5]   #para testear el codigo sin que se demore mucho"
      ],
      "execution_count": null,
      "outputs": [
        {
          "output_type": "stream",
          "text": [
            "Total de tomas: 15\n",
            "Tomas por sesión: 3\n",
            "Total de actores: 7\n",
            "Costes:\n"
          ],
          "name": "stdout"
        },
        {
          "output_type": "display_data",
          "data": {
            "text/plain": [
              "([0, 0, 0, 0, 0, 0, 1],\n",
              " [0, 0, 0, 0, 0, 0, 1],\n",
              " [0, 0, 0, 1, 0, 0, 0],\n",
              " [0, 0, 1, 1, 0, 0, 0],\n",
              " [0, 0, 0, 0, 0, 0, 1],\n",
              " [0, 0, 0, 0, 0, 0, 1],\n",
              " [0, 0, 0, 0, 0, 1, 1],\n",
              " [0, 0, 1, 0, 0, 0, 1],\n",
              " [0, 1, 0, 0, 0, 0, 0],\n",
              " [0, 0, 0, 0, 0, 1, 0],\n",
              " [0, 1, 0, 0, 0, 1, 0],\n",
              " [0, 0, 1, 0, 1, 0, 0],\n",
              " [0, 0, 0, 1, 0, 0, 0],\n",
              " [0, 0, 0, 0, 1, 0, 1],\n",
              " [1, 0, 0, 1, 0, 1, 0])"
            ]
          },
          "metadata": {
            "tags": []
          }
        }
      ]
    },
    {
      "cell_type": "markdown",
      "metadata": {
        "id": "zy5ZROmjlGo1"
      },
      "source": [
        "Aplica el algoritmo al juego de datos generado"
      ]
    },
    {
      "cell_type": "markdown",
      "metadata": {
        "id": "_Cmj-PVylMsa"
      },
      "source": [
        "Respuesta"
      ]
    },
    {
      "cell_type": "code",
      "metadata": {
        "id": "Jkx8GeiYlUz1",
        "colab": {
          "base_uri": "https://localhost:8080/"
        },
        "outputId": "949c69f4-92f5-4571-b74b-e2e764d08e19"
      },
      "source": [
        "# Por fuerza vruta:\r\n",
        "FuerzaBruta(random_costs, sessions)\r\n",
        "\r\n",
        "# Por busqueda aleatoria:\r\n",
        "solucion = busqueda_aleatoria(random_costs, 5, sessions) \r\n",
        "\r\n",
        "# Por busqueda local:\r\n",
        "sol = busqueda_local(random_costs, sessions)\r\n",
        "\r\n",
        "# Por recocido simulado:\r\n",
        "sol  = recocido_simulado(random_costs, sessions, 100)  \r\n"
      ],
      "execution_count": null,
      "outputs": [
        {
          "output_type": "stream",
          "text": [
            "Mejor solución:  (2, 0, 1, 3)\n",
            "Desplazamientos:  2\n",
            "En la iteracion  1 , la mejor solución encontrada es: []\n",
            "con una total de desplazamientos:  3\n",
            "La mejor solución encontrada es (4, 2, 1, 0, 3)\n",
            "con una total de desplazamientos: 3\n"
          ],
          "name": "stdout"
        }
      ]
    },
    {
      "cell_type": "markdown",
      "metadata": {
        "id": "eTFWUJQrtGcv"
      },
      "source": [
        "Enumera las referencias que has utilizado(si ha sido necesario) para llevar a cabo el trabajo"
      ]
    },
    {
      "cell_type": "markdown",
      "metadata": {
        "id": "YKQ_mRBttWsP"
      },
      "source": [
        "Respuesta"
      ]
    },
    {
      "cell_type": "markdown",
      "metadata": {
        "id": "kAkDPUyRtYyH"
      },
      "source": [
        "Describe brevemente las lineas de como crees que es posible avanzar en el estudio del problema. Ten en cuenta incluso posibles variaciones del problema y/o variaciones al alza del tamaño"
      ]
    },
    {
      "cell_type": "markdown",
      "metadata": {
        "id": "IE0uZmo-tZu-"
      },
      "source": [
        "Respuesta\r\n",
        "\r\n",
        ">Algo nos podria ahorrar algunis cáculo, aun que sean pocos, seria saltar a la sigiente toma al detectar que uno de los actores ha llegado a su toper de tomas por dia. Es decir, si vamos por el actor 2 de 10 y ese ya ha realizado 6 tomas. Sumamos una al desplazamiento y saltamos a analizar las siguentes tomas. no haria falta llegar a calcular las tomas ralizadas por los actores del 3 al 10, pueso que no nos canviaran la decisión tomada por el actor 2."
      ]
    }
  ]
}